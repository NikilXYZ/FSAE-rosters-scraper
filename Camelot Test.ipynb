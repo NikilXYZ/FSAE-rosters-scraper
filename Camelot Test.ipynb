{
 "metadata": {
  "language_info": {
   "codemirror_mode": {
    "name": "ipython",
    "version": 3
   },
   "file_extension": ".py",
   "mimetype": "text/x-python",
   "name": "python",
   "nbconvert_exporter": "python",
   "pygments_lexer": "ipython3",
   "version": "3.8.8-final"
  },
  "orig_nbformat": 2,
  "kernelspec": {
   "name": "python3",
   "display_name": "Python 3.8.8 64-bit (conda)",
   "metadata": {
    "interpreter": {
     "hash": "66576e4160d10e4bd876967526f19ad2da6cc9f5f427bd42a08d2cbdd0fe60d4"
    }
   }
  }
 },
 "nbformat": 4,
 "nbformat_minor": 2,
 "cells": [
  {
   "cell_type": "code",
   "execution_count": 5,
   "metadata": {},
   "outputs": [],
   "source": [
    "import numpy as np\n",
    "import pandas as pd\n",
    "import camelot"
   ]
  },
  {
   "cell_type": "code",
   "execution_count": 6,
   "metadata": {},
   "outputs": [],
   "source": [
    "lincoln_ice_pdf_to_table = camelot.read_pdf(\"fsae_ln_c_2019_result.pdf\",pages='1-end')"
   ]
  },
  {
   "cell_type": "code",
   "execution_count": 7,
   "metadata": {},
   "outputs": [],
   "source": [
    "lincoln_electric_pdf_to_table = camelot.read_pdf(\"fsae_ln_e_2019_result.pdf\",pages='1-end')"
   ]
  },
  {
   "cell_type": "code",
   "execution_count": 8,
   "metadata": {},
   "outputs": [],
   "source": [
    "north_electric_pdf_to_table = camelot.read_pdf(\"fsae_on_2019_ev_result.pdf\",pages='1-end')"
   ]
  },
  {
   "cell_type": "code",
   "execution_count": 9,
   "metadata": {},
   "outputs": [],
   "source": [
    "north_ice_pdf_to_table = camelot.read_pdf(\"fsae_on_2019_ic_result.pdf\",pages='1-end')"
   ]
  },
  {
   "cell_type": "code",
   "execution_count": 10,
   "metadata": {},
   "outputs": [],
   "source": [
    "michigan_ice_pdf_to_table = camelot.read_pdf(\"fsae_mi_2019_result.pdf\",pages='1-end')"
   ]
  },
  {
   "cell_type": "code",
   "execution_count": 11,
   "metadata": {},
   "outputs": [],
   "source": [
    "def merge_pages_of_same_table(pdf_to_tables, first_page, num_pages_to_merge):\n",
    "    final_dataframe = pd.DataFrame()\n",
    "    for page in pdf_to_tables[first_page:first_page+num_pages_to_merge]:\n",
    "        table = page.df\n",
    "        table = table.replace(r'\\n','', regex=True)\n",
    "        table.columns = table.iloc[0]\n",
    "        table = table[1:]\n",
    "        final_dataframe = final_dataframe.append(table)\n",
    "    return final_dataframe"
   ]
  },
  {
   "cell_type": "code",
   "execution_count": 12,
   "metadata": {},
   "outputs": [],
   "source": [
    "lincoln_ice = merge_pages_of_same_table(lincoln_ice_pdf_to_table, 0, 3)\n",
    "lincoln_electric = merge_pages_of_same_table(lincoln_electric_pdf_to_table, 0, 1)\n",
    "north_ice = merge_pages_of_same_table(north_ice_pdf_to_table, 0, 1)\n",
    "north_electric = merge_pages_of_same_table(north_electric_pdf_to_table, 0, 1)\n",
    "michigan_ice = merge_pages_of_same_table(michigan_ice_pdf_to_table, 0, 5)"
   ]
  },
  {
   "cell_type": "code",
   "execution_count": 23,
   "metadata": {},
   "outputs": [],
   "source": [
    "all_ice = lincoln_ice.merge(north_ice, on=\"Team\", how='outer', suffixes=(\"_lincoln\", \"_north\")).merge(michigan_ice, on=\"Team\", how='outer', suffixes=(\"\",\"_michigan\"))"
   ]
  },
  {
   "cell_type": "code",
   "execution_count": 35,
   "metadata": {},
   "outputs": [],
   "source": [
    "all_ice = all_ice.rename(columns={'Place' : 'Place_michigan',\n",
    "    'Car Num' : 'Car Num_michigan',\n",
    "    'Penalty' : 'Penalty_michigan',\n",
    "    'Cost Score' : 'Cost Score_michigan',\n",
    "    'Presentation Score' : 'Presentation Score_michigan',\n",
    "    'Design Score' : 'Design Score_michigan',\n",
    "    'Acceleration Score' : 'Acceleration Score_michigan',\n",
    "    'Skid Pad Score' : 'Skid Pad Score_michigan',\n",
    "    'Autocross Score' : 'Autocross Score_michigan',\n",
    "    'Endurance Score' : 'Endurance Score_michigan',\n",
    "    'Efficiency Score' : 'Efficiency Score_michigan',\n",
    "    'Total Score' : 'Total Score_michigan'})"
   ]
  },
  {
   "cell_type": "code",
   "execution_count": 20,
   "metadata": {},
   "outputs": [],
   "source": [
    "all_electric = lincoln_electric.merge(north_electric, on=\"Team\", how='outer', suffixes=(\"_lincoln\", \"_north\"))"
   ]
  },
  {
   "cell_type": "code",
   "execution_count": 21,
   "metadata": {},
   "outputs": [],
   "source": [
    "all_electric.loc[12].Team = \"Western University\"\n",
    "all_electric.loc[12][\"Car Num_lincoln\"] = 229\n",
    "all_electric.loc[12][\"Car Num_north\"] = 238"
   ]
  },
  {
   "cell_type": "code",
   "execution_count": 25,
   "metadata": {},
   "outputs": [],
   "source": [
    "all_ice.loc[118].Team = \"Worcester Polytechnic Inst\"\n",
    "all_ice.loc[118][\"Car Num_michigan\"] = 105\n",
    "\n",
    "all_ice.loc[119].Team = \"West Virginia Univ\"\n",
    "all_ice.loc[119][\"Car Num_michigan\"] = 116"
   ]
  },
  {
   "cell_type": "code",
   "execution_count": 26,
   "metadata": {},
   "outputs": [],
   "source": [
    "non_american_teams = ['McGill Univ',\n",
    "    'Univ of Manitoba',\n",
    "    'Univ of Waterloo'\n",
    "    'Université Laval',\n",
    "    'Ecole Polytechnique Montreal',\n",
    "    'Univ of Calgary',\n",
    "    'Univ of Alberta',\n",
    "    'Univ of Saskatchewan',\n",
    "    'Instituto Maua de Tecnologia',\n",
    "    'Universidad Nacional Autónoma de México',\n",
    "    'Instituto Tecnologico de Chihuahua',\n",
    "    'Univ of Ottawa',\n",
    "    'Universite de Sherbrooke',\n",
    "    'Universidad Panamericana Sede Guadalajar',\n",
    "    'Sinhgad College of Engineering',\n",
    "    'Thapar University',\n",
    "    'IPN Esime Zacatenco',\n",
    "    'Ecole De Technologie Superieure',\n",
    "    'Carleton Univ',\n",
    "    'Ryerson Univ',\n",
    "    'Cegep du Vieux - Montreal',\n",
    "    \"Queen's Univ\",\n",
    "    'Univ of Windsor',\n",
    "    'Universitat Stuttgart',\n",
    "    'Graz Technical Univ',\n",
    "    'Polytechnique Montréal',\n",
    "    'National Univ of Singapore',\n",
    "    'AGH Univ of Science and Technology',\n",
    "    'Wroclaw University of Technology',\n",
    "    'Coburg University of Applied Sciences',\n",
    "    'Kookmin Univ',\n",
    "    'CEFET-MG',\n",
    "    'Dalhousie Univ',\n",
    "    'Univ of Toronto',\n",
    "    'Univ of Guelph',\n",
    "    'Universidad Simon Bolivar',\n",
    "    'Lakehead Univ',\n",
    "    'Univ of British Columbia - Okanagan',\n",
    "    'Universidad Metropolitana',\n",
    "    'Universite Du Quebec a Trois-Rivieres',\n",
    "    'IPN - UPIITA',\n",
    "    'Universidad Autonoma Estado Mexico',\n",
    "    'Warsaw University of Technology']"
   ]
  },
  {
   "cell_type": "code",
   "execution_count": 33,
   "metadata": {},
   "outputs": [],
   "source": [
    "# They need to have a score for at least one of Autocross, Endurance, Accelerator, Skid Pad, and Efficiency\n",
    "# all_electric_teams_that_have_a_functional_car = \n",
    "electric_teams_that_completed = {\n",
    "    'autocross'    : \n",
    "        ((all_electric['Autocross Score_lincoln'].notnull()) & (all_electric['Autocross Score_lincoln']!='')) |\n",
    "        ((all_electric['Autocross Score_north'].notnull()) & (all_electric['Autocross Score_north']!='')),\n",
    "    'endurance'    : \n",
    "        ((all_electric['Endurance Score_lincoln'].notnull()) & (all_electric['Endurance Score_lincoln']!='')) |\n",
    "        ((all_electric['Endurance Score_north'].notnull()) & (all_electric['Endurance Score_north']!='')),\n",
    "    'acceleration' : \n",
    "        ((all_electric['Acceleration Score_lincoln'].notnull()) & (all_electric['Acceleration Score_lincoln']!='')) |\n",
    "        ((all_electric['Acceleration Score_north'].notnull()) & (all_electric['Acceleration Score_north']!='')),\n",
    "    'skid_pad'     : \n",
    "        ((all_electric['Skid Pad Score_lincoln'].notnull()) & (all_electric['Skid Pad Score_lincoln']!='')) |\n",
    "        ((all_electric['Skid Pad Score_north'].notnull()) & (all_electric['Skid Pad Score_north']!='')),\n",
    "    'efficiency'   : \n",
    "        ((all_electric['Efficiency Score_lincoln'].notnull()) & (all_electric['Efficiency Score_lincoln']!='')) |\n",
    "        ((all_electric['Efficiency Score_north'].notnull()) & (all_electric['Efficiency Score_north']!=''))\n",
    "}"
   ]
  },
  {
   "cell_type": "code",
   "execution_count": 36,
   "metadata": {},
   "outputs": [],
   "source": [
    "# They need to have a score for at least one of Autocross, Endurance, Accelerator, Skid Pad, and Efficiency\n",
    "ice_teams_that_completed = {\n",
    "    'autocross'    : \n",
    "        ((all_ice['Autocross Score_lincoln'].notnull()) & (all_ice['Autocross Score_lincoln']!='')) |\n",
    "        ((all_ice['Autocross Score_michigan'].notnull()) & (all_ice['Autocross Score_michigan']!='')) |\n",
    "        ((all_ice['Autocross Score_north'].notnull()) & (all_ice['Autocross Score_north']!='')),\n",
    "    'endurance'    : \n",
    "        ((all_ice['Endurance Score_lincoln'].notnull()) & (all_ice['Endurance Score_lincoln']!='')) |\n",
    "        ((all_ice['Endurance Score_michigan'].notnull()) & (all_ice['Endurance Score_michigan']!='')) |\n",
    "        ((all_ice['Endurance Score_north'].notnull()) & (all_ice['Endurance Score_north']!='')),\n",
    "    'acceleration' : \n",
    "        ((all_ice['Acceleration Score_lincoln'].notnull()) & (all_ice['Acceleration Score_lincoln']!='')) |\n",
    "        ((all_ice['Acceleration Score_michigan'].notnull()) & (all_ice['Acceleration Score_michigan']!='')) |\n",
    "        ((all_ice['Acceleration Score_north'].notnull()) & (all_ice['Acceleration Score_north']!='')),\n",
    "    'skid_pad'     : \n",
    "        ((all_ice['Skid Pad Score_lincoln'].notnull()) & (all_ice['Skid Pad Score_lincoln']!='')) |\n",
    "        ((all_ice['Skid Pad Score_michigan'].notnull()) & (all_ice['Skid Pad Score_michigan']!='')) |\n",
    "        ((all_ice['Skid Pad Score_north'].notnull()) & (all_ice['Skid Pad Score_north']!='')),\n",
    "    'efficiency'   : \n",
    "        ((all_ice['Efficiency Score_lincoln'].notnull()) & (all_ice['Efficiency Score_lincoln']!='')) |\n",
    "        ((all_ice['Efficiency Score_michigan'].notnull()) & (all_ice['Efficiency Score_michigan']!='')) |\n",
    "        ((all_ice['Efficiency Score_north'].notnull()) & (all_ice['Efficiency Score_north']!=''))\n",
    "}"
   ]
  },
  {
   "cell_type": "code",
   "execution_count": 37,
   "metadata": {},
   "outputs": [],
   "source": [
    "working_electric_car = ( (electric_teams_that_completed['autocross']) | \n",
    "  (electric_teams_that_completed['endurance']) |\n",
    "  (electric_teams_that_completed['acceleration']) |\n",
    "  (electric_teams_that_completed['skid_pad']) |\n",
    "  (electric_teams_that_completed['efficiency']) )"
   ]
  },
  {
   "cell_type": "code",
   "execution_count": 38,
   "metadata": {},
   "outputs": [],
   "source": [
    "working_ice_car = ( (ice_teams_that_completed['autocross']) | \n",
    "  (ice_teams_that_completed['endurance']) |\n",
    "  (ice_teams_that_completed['acceleration']) |\n",
    "  (ice_teams_that_completed['skid_pad']) |\n",
    "  (ice_teams_that_completed['efficiency']) )"
   ]
  },
  {
   "cell_type": "code",
   "execution_count": 39,
   "metadata": {},
   "outputs": [],
   "source": [
    "decent_electric_teams = all_electric[working_electric_car]"
   ]
  },
  {
   "cell_type": "code",
   "execution_count": 40,
   "metadata": {},
   "outputs": [],
   "source": [
    "decent_american_electric_teams = decent_electric_teams[~(decent_electric_teams['Team'].isin(non_american_teams))]"
   ]
  },
  {
   "cell_type": "code",
   "execution_count": 41,
   "metadata": {},
   "outputs": [],
   "source": [
    "decent_ice_teams = all_ice[working_ice_car]"
   ]
  },
  {
   "cell_type": "code",
   "execution_count": 42,
   "metadata": {},
   "outputs": [],
   "source": [
    "decent_american_ice_teams = decent_ice_teams[~(decent_ice_teams['Team'].isin(non_american_teams))]"
   ]
  },
  {
   "cell_type": "code",
   "execution_count": 53,
   "metadata": {},
   "outputs": [],
   "source": [
    "decent_american_teams = decent_american_electric_teams.merge(decent_american_ice_teams, on='Team', how='outer', suffixes=['_electric', '_ice'])\n",
    "decent_american_teams_w_ice_and_electric = decent_american_electric_teams.merge(decent_american_ice_teams, on='Team', how='inner')\n",
    "decent_american_teams_intersection = decent_american_teams.merge(decent_american_teams_w_ice_and_electric, on='Team', how='inner')"
   ]
  },
  {
   "cell_type": "code",
   "execution_count": 65,
   "metadata": {},
   "outputs": [],
   "source": [
    "location_suffixes = ['_lincoln', '_north', '_michigan']\n",
    "car_type_suffixes = ['_electric', '_ice']\n",
    "\n",
    "scores = ['Place', 'Penalty', 'Presentation Score', 'Design Score', 'Acceleration Score', 'Skid Pad Score', 'Autocross Score', 'Endurance Score', 'Total Score']"
   ]
  },
  {
   "cell_type": "code",
   "execution_count": 98,
   "metadata": {},
   "outputs": [],
   "source": [
    "# take the best score for electric events and best score for ice events\n",
    "decent_american_teams_best_scores = pd.DataFrame()\n",
    "decent_american_teams_best_scores['Team'] = decent_american_teams['Team']\n",
    "for score in scores:\n",
    "    for car_type in car_type_suffixes:\n",
    "        columns_to_compare = []\n",
    "        for location in location_suffixes:\n",
    "            if not ( (location == '_michigan') and (car_type == '_electric') ):\n",
    "                column_name = f\"{score}{location}{'' if location == '_michigan' else car_type}\"\n",
    "                columns_to_compare.append(column_name)\n",
    "        \n",
    "        column_values = decent_american_teams[columns_to_compare].apply(pd.to_numeric, errors='coerce')\n",
    "        column_values = column_values.fillna(0)\n",
    "        decent_american_teams_best_scores[f\"{score}{car_type}\"] = column_values.max(axis=1, skipna=False)"
   ]
  },
  {
   "cell_type": "code",
   "execution_count": 100,
   "metadata": {},
   "outputs": [],
   "source": [
    "# take the overall best score (this really only affects the 6 teams that have both electric and ice)\n",
    "for score in scores:\n",
    "    if score != 'Place':\n",
    "        columns_to_compare = []\n",
    "        for car_type in car_type_suffixes:\n",
    "            column_name = f\"{score}{car_type}\"\n",
    "            columns_to_compare.append(column_name)\n",
    "    \n",
    "        column_values = decent_american_teams_best_scores[columns_to_compare]\n",
    "        decent_american_teams_best_scores[f\"{score}_best\"] = column_values.max(axis=1, skipna=False)"
   ]
  },
  {
   "cell_type": "code",
   "execution_count": 102,
   "metadata": {},
   "outputs": [],
   "source": [
    "decent_american_teams_best_scores.to_csv('Decent American Teams Best Scores.csv')"
   ]
  },
  {
   "cell_type": "code",
   "execution_count": null,
   "metadata": {},
   "outputs": [],
   "source": []
  }
 ]
}